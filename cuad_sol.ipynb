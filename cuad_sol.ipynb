{
 "cells": [
  {
   "cell_type": "markdown",
   "metadata": {},
   "source": [
    "# Cancelación sustractiva"
   ]
  },
  {
   "cell_type": "code",
   "execution_count": 8,
   "metadata": {},
   "outputs": [
    {
     "name": "stdout",
     "output_type": "stream",
     "text": [
      "c=1.000e-01  x_1=-1.127016653792583e-01   x_1_p=-1.127016653792583e-01    error=0.000000000000012\n",
      "c=1.000e-02  x_1=-1.010205144336440e-02   x_1_p=-1.010205144336438e-02    error=0.000000000000206\n",
      "c=1.000e-03  x_1=-1.001002005014018e-03   x_1_p=-1.001002005014042e-03    error=0.000000000002426\n",
      "c=1.000e-04  x_1=-1.000100020004946e-04   x_1_p=-1.000100020005001e-04    error=0.000000000005556\n",
      "c=1.000e-05  x_1=-1.000010000201668e-05   x_1_p=-1.000010000200005e-05    error=0.000000000166254\n",
      "c=1.000e-06  x_1=-1.000001000006634e-06   x_1_p=-1.000001000002000e-06    error=0.000000000463390\n",
      "c=1.000e-07  x_1=-1.000000099948828e-07   x_1_p=-1.000000100000020e-07    error=0.000000005119215\n",
      "c=1.000e-08  x_1=-1.000000010575874e-08   x_1_p=-1.000000010000000e-08    error=0.000000057587404\n",
      "c=1.000e-09  x_1=-1.000000027229220e-09   x_1_p=-1.000000001000000e-09    error=0.000002622921953\n"
     ]
    }
   ],
   "source": [
    "a=1.0\n",
    "b=1.0\n",
    "x_list=[]\n",
    "y_list=[]\n",
    "\n",
    "for i in range(1,10):\n",
    "    c=10**(-i)\n",
    "    x_1=(-b+(b**2-4*a*c)**0.5)/2*a\n",
    "    x_1_p=(2*c)/(-b-(b**2-4*a*c)**0.5)\n",
    "    error=(abs(x_1_p-x_1)/abs(x_1_p))*100\n",
    "    print(\"c=%.3e  x_1=%.15e   x_1_p=%.15e    error=%.15f\" %(c,x_1,x_1_p,error))\n",
    "    x_list.append(c)\n",
    "    y_list.append(error)"
   ]
  },
  {
   "cell_type": "code",
   "execution_count": 23,
   "metadata": {},
   "outputs": [
    {
     "data": {
      "image/png": "[encoded data removed]",
      "text/plain": [
       "<matplotlib.figure.Figure at 0x7f956a273780>"
      ]
     },
     "metadata": {},
     "output_type": "display_data"
    }
   ],
   "source": [
    "import numpy as np\n",
    "import matplotlib.pyplot as plt\n",
    "\n",
    "fig=plt.figure(figsize=(10,10))\n",
    "ax=plt.axes()\n",
    "ax.plot(x_list,y_list, '.',color=\"blue\",markersize=10)\n",
    "ax.set_yscale('log')\n",
    "ax.set_xlabel(\"c\")\n",
    "ax.set_xscale('log')\n",
    "ax.set_label(\"error\")\n",
    "ax.grid()\n",
    "plt.show()"
   ]
  },
  {
   "cell_type": "code",
   "execution_count": null,
   "metadata": {
    "collapsed": true
   },
   "outputs": [],
   "source": []
  }
 ],
 "metadata": {
  "kernelspec": {
   "display_name": "Python 3",
   "language": "python",
   "name": "python3"
  },
  "language_info": {
   "codemirror_mode": {
    "name": "ipython",
    "version": 3
   },
   "file_extension": ".py",
   "mimetype": "text/x-python",
   "name": "python",
   "nbconvert_exporter": "python",
   "pygments_lexer": "ipython3",
   "version": "3.6.3"
  }
 },
 "nbformat": 4,
 "nbformat_minor": 2
}
